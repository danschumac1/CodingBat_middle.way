{
 "cells": [
  {
   "cell_type": "markdown",
   "id": "7d2491d0",
   "metadata": {},
   "source": [
    "# List-1 > middle_way"
   ]
  },
  {
   "cell_type": "markdown",
   "id": "f97ad4a5",
   "metadata": {},
   "source": [
    "\n",
    "Given 2 int arrays, a and b, each length 3, return a new array length 2 containing their middle elements.\n",
    "\n",
    "\n",
    "middle_way([1, 2, 3], [4, 5, 6]) → [2, 5]\n",
    "\n",
    "middle_way([7, 7, 7], [3, 8, 0]) → [7, 8]\n",
    "\n",
    "middle_way([5, 2, 9], [1, 4, 5]) → [2, 4]"
   ]
  },
  {
   "cell_type": "code",
   "execution_count": 1,
   "id": "a596f7d6",
   "metadata": {},
   "outputs": [],
   "source": [
    "def middle_way(a, b):\n",
    "  new_array = []\n",
    "  new_array.append(a[1])\n",
    "  new_array.append(b[1])\n",
    "  return new_array"
   ]
  }
 ],
 "metadata": {
  "kernelspec": {
   "display_name": "Python 3 (ipykernel)",
   "language": "python",
   "name": "python3"
  },
  "language_info": {
   "codemirror_mode": {
    "name": "ipython",
    "version": 3
   },
   "file_extension": ".py",
   "mimetype": "text/x-python",
   "name": "python",
   "nbconvert_exporter": "python",
   "pygments_lexer": "ipython3",
   "version": "3.9.12"
  }
 },
 "nbformat": 4,
 "nbformat_minor": 5
}
